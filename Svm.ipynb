{
  "nbformat": 4,
  "nbformat_minor": 0,
  "metadata": {
    "colab": {
      "provenance": [],
      "mount_file_id": "1dKO8twYinnYAqI6XmM6_x-9pMwX3RING",
      "authorship_tag": "ABX9TyNounU3HwnPjEP8QfnDe+Ss",
      "include_colab_link": true
    },
    "kernelspec": {
      "name": "python3",
      "display_name": "Python 3"
    },
    "language_info": {
      "name": "python"
    }
  },
  "cells": [
    {
      "cell_type": "markdown",
      "metadata": {
        "id": "view-in-github",
        "colab_type": "text"
      },
      "source": [
        "<a href=\"https://colab.research.google.com/github/Abstract-code-ops/ML-from-scratch/blob/main/Svm.ipynb\" target=\"_parent\"><img src=\"https://colab.research.google.com/assets/colab-badge.svg\" alt=\"Open In Colab\"/></a>"
      ]
    },
    {
      "cell_type": "markdown",
      "source": [
        "# Support Vector Machines"
      ],
      "metadata": {
        "id": "y8bs9NirH7op"
      }
    },
    {
      "cell_type": "markdown",
      "source": [
        "SVMs are one of the most used methods in machine learning, mainly for classification tasks however they can be also be used for regression. They use Support Vector Classifiers (SVC) to classify objects into classes.\n",
        "\n",
        "Let's first explore how an SVC works. Imagine we have a 2 dimentional graph with 2 different classes like the image below. An svc draws a line between the 2 edges of the classes as a thresh0ld to decide which class a new data resides in, the 2 edge values are called Support vectors and the distance between the line and the support vectors is called a margin. In this case the line is in the middle between the vectors and the margin of the 2 sides are equally largest as can be. This is called the maximal margin classifier.\n",
        "\n",
        "![svmhp.png](data:image/png;base64,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)\n",
        "\n"
      ],
      "metadata": {
        "id": "tWKPLBVc7B85"
      }
    },
    {
      "cell_type": "markdown",
      "source": [
        "If there was an outlier of the red class that is close to the blue class the maximal margin classifier would have the decision boundary too close to blue and very far from red. this would misclassify alot of blue classes as red since the decision boundary use the outlier as a support vector. Another type of classifier is a soft margin classifier where it allows for misclassifications like an outlier but as a result have a more precise model. The goal of this classifier is to find out how many misclassifications it can allow to have the best decision boundary. This version is usually preferred over hard classififcation but ultimately it depends on the user whether they want to have more recall or precision.\n",
        "\n",
        "Then we have a support vector machines, they apply kernel tricks into the support vector classifiers to be able to classsify non-linear data. There is the polynomial and rbf kernel where they have formulas to projects values to higher dimensions in order to extract more information"
      ],
      "metadata": {
        "id": "pL2d4OZMLGjc"
      }
    },
    {
      "cell_type": "code",
      "source": [
        "!pip install ucimlrepo"
      ],
      "metadata": {
        "id": "KobMwTDkOLId"
      },
      "execution_count": null,
      "outputs": []
    },
    {
      "cell_type": "code",
      "source": [
        "from ucimlrepo import fetch_ucirepo\n",
        "import pandas as pd\n",
        "import numpy as np\n",
        "import matplotlib.pyplot as plt\n",
        "from sklearn import datasets\n",
        "import seaborn as sns\n",
        "from sklearn.utils import resample\n",
        "from sklearn.model_selection import train_test_split, GridSearchCV, cross_val_score, cross_val_predict, RandomizedSearchCV\n",
        "from sklearn.preprocessing import StandardScaler, OneHotEncoder, scale\n",
        "from sklearn.pipeline import Pipeline\n",
        "from sklearn.compose import ColumnTransformer\n",
        "from sklearn.svm import SVC\n",
        "from sklearn.metrics import classification_report, confusion_matrix, ConfusionMatrixDisplay\n",
        "from sklearn.decomposition import PCA"
      ],
      "metadata": {
        "id": "b6NMZeF6fOWe"
      },
      "execution_count": 2,
      "outputs": []
    },
    {
      "cell_type": "markdown",
      "source": [
        "# SVM from scratch"
      ],
      "metadata": {
        "id": "CsYWFHkrjXOq"
      }
    },
    {
      "cell_type": "code",
      "source": [
        "class svmClassifier():\n",
        "  def __init__(self, lr=0.01, iters=100, lambdaParam=0.01): #added default values for iters and lambdaParam\n",
        "\n",
        "    self.lr = lr\n",
        "    self.iters = iters\n",
        "    self.lambdaParam = lambdaParam\n",
        "\n",
        "  def fit(self, X, y):\n",
        "\n",
        "    self.n_samples, self.n_features = X.shape\n",
        "\n",
        "    self.w = np.zeros(self.n_features)\n",
        "    self.b = 0\n",
        "\n",
        "    self.X = X\n",
        "    self.y = y\n",
        "    self.y_ = np.where(self.y <=0, -1, 1)\n",
        "\n",
        "    for i in range(self.iters):\n",
        "      self.gradientDescent()\n",
        "\n",
        "  def gradientDescent(self):\n",
        "    # this becomes a binary classifier for simplicity\n",
        "    for idx, x in enumerate(self.X):\n",
        "      condition = self.y_[idx] * (np.dot(x, self.w) - self.b) >= 1\n",
        "      if condition:\n",
        "        self.w -= self.lr * (2 * self.lambdaParam * self.w)\n",
        "      else:\n",
        "        self.w -= self.lr * (2 * self.lambdaParam * self.w - np.dot(x, self.y_[idx]))\n",
        "        self.b -= self.lr * self.y_[idx]\n",
        "\n",
        "  def predict(self, X):\n",
        "\n",
        "    result = np.dot(X, self.w) - self.b\n",
        "    pred_classes = np.sign(result)\n",
        "    return pred_classes"
      ],
      "metadata": {
        "id": "UebEVjIjg3Du"
      },
      "execution_count": 11,
      "outputs": []
    },
    {
      "cell_type": "code",
      "source": [
        "X, y = datasets.make_blobs(n_samples=100, n_features=2, centers=2, cluster_std=1.05, random_state=40)\n",
        "y = np.where(y == 0, -1, 1)\n",
        "\n",
        "X_train, X_test, y_train, y_test = train_test_split(X, y, test_size=0.2, random_state=42)\n",
        "\n",
        "cls = svmClassifier()\n",
        "cls.fit(X_train, y_train)\n",
        "preds = cls.predict(X_test)\n",
        "\n",
        "accuracy = np.sum(preds == y_test) / len(y_test)\n",
        "print(accuracy)"
      ],
      "metadata": {
        "colab": {
          "base_uri": "https://localhost:8080/"
        },
        "id": "SzHd3jBSpIQ0",
        "outputId": "4a3b64fb-600c-4053-8ec9-48a3077c8b67"
      },
      "execution_count": 12,
      "outputs": [
        {
          "output_type": "stream",
          "name": "stdout",
          "text": [
            "0.5\n"
          ]
        }
      ]
    },
    {
      "cell_type": "markdown",
      "source": [
        "# SVM Practice"
      ],
      "metadata": {
        "id": "YFV77X8wfJXF"
      }
    },
    {
      "cell_type": "code",
      "source": [
        "df = pd.read_excel('/content/drive/MyDrive/default of credit card clients.xls')\n",
        "column_names_row = df.iloc[0]\n",
        "df.columns = column_names_row.values\n",
        "df = df.iloc[1:]\n",
        "df = df.reset_index(drop=True)\n",
        "df.rename(columns={'default payment next month': 'DEFAULT'}, inplace=True)\n",
        "df.drop('ID', axis=1, inplace=True)\n",
        "print(df.head())"
      ],
      "metadata": {
        "colab": {
          "base_uri": "https://localhost:8080/"
        },
        "id": "uNJg98fjf02a",
        "outputId": "08e9b0cf-7e20-4a23-8dd3-25f9c1001411"
      },
      "execution_count": null,
      "outputs": [
        {
          "output_type": "stream",
          "name": "stdout",
          "text": [
            "  LIMIT_BAL SEX EDUCATION MARRIAGE AGE PAY_0 PAY_2 PAY_3 PAY_4 PAY_5  ...  \\\n",
            "0     20000   2         2        1  24     2     2    -1    -1    -2  ...   \n",
            "1    120000   2         2        2  26    -1     2     0     0     0  ...   \n",
            "2     90000   2         2        2  34     0     0     0     0     0  ...   \n",
            "3     50000   2         2        1  37     0     0     0     0     0  ...   \n",
            "4     50000   1         2        1  57    -1     0    -1     0     0  ...   \n",
            "\n",
            "  BILL_AMT4 BILL_AMT5 BILL_AMT6 PAY_AMT1 PAY_AMT2 PAY_AMT3 PAY_AMT4 PAY_AMT5  \\\n",
            "0         0         0         0        0      689        0        0        0   \n",
            "1      3272      3455      3261        0     1000     1000     1000        0   \n",
            "2     14331     14948     15549     1518     1500     1000     1000     1000   \n",
            "3     28314     28959     29547     2000     2019     1200     1100     1069   \n",
            "4     20940     19146     19131     2000    36681    10000     9000      689   \n",
            "\n",
            "  PAY_AMT6 DEFAULT  \n",
            "0        0       1  \n",
            "1     2000       1  \n",
            "2     5000       0  \n",
            "3     1000       0  \n",
            "4      679       0  \n",
            "\n",
            "[5 rows x 24 columns]\n"
          ]
        }
      ]
    },
    {
      "cell_type": "code",
      "source": [
        "len(df.loc[(df.EDUCATION == 0) | (df.MARRIAGE == 0)])"
      ],
      "metadata": {
        "colab": {
          "base_uri": "https://localhost:8080/"
        },
        "id": "jJBQE6Kwb5rm",
        "outputId": "aebfaf9c-e87c-4899-f1ff-03b52788d2d0"
      },
      "execution_count": null,
      "outputs": [
        {
          "output_type": "execute_result",
          "data": {
            "text/plain": [
              "68"
            ]
          },
          "metadata": {},
          "execution_count": 4
        }
      ]
    },
    {
      "cell_type": "code",
      "source": [
        "df_real = df.loc[(df.EDUCATION != 0) & (df.MARRIAGE != 0)]\n",
        "len(df_real)"
      ],
      "metadata": {
        "colab": {
          "base_uri": "https://localhost:8080/"
        },
        "id": "IorFis8kc0Ex",
        "outputId": "75d088d0-ba69-4eb2-e759-c22eaa9ae81f"
      },
      "execution_count": null,
      "outputs": [
        {
          "output_type": "execute_result",
          "data": {
            "text/plain": [
              "29932"
            ]
          },
          "metadata": {},
          "execution_count": 5
        }
      ]
    },
    {
      "cell_type": "code",
      "source": [
        "df_real.MARRIAGE.unique()"
      ],
      "metadata": {
        "colab": {
          "base_uri": "https://localhost:8080/"
        },
        "id": "FgY_9Js1Yzaz",
        "outputId": "c1a0f72f-3af3-4e3c-f321-7f3bd89f80d1"
      },
      "execution_count": null,
      "outputs": [
        {
          "output_type": "execute_result",
          "data": {
            "text/plain": [
              "array([1, 2, 3], dtype=object)"
            ]
          },
          "metadata": {},
          "execution_count": 6
        }
      ]
    },
    {
      "cell_type": "code",
      "source": [
        "df_no_default = df_real.loc[df_real.DEFAULT == 0]\n",
        "df_default = df_real.loc[df_real.DEFAULT == 1]"
      ],
      "metadata": {
        "id": "6utL6s2OY0ZT"
      },
      "execution_count": null,
      "outputs": []
    },
    {
      "cell_type": "code",
      "source": [
        "df_no_default_downsampled = resample(df_no_default, replace=False, n_samples=1000, random_state=42)\n",
        "print(len(df_no_default_downsampled))"
      ],
      "metadata": {
        "colab": {
          "base_uri": "https://localhost:8080/"
        },
        "id": "7c2IQIz-Y0ff",
        "outputId": "4b5cf599-1530-43fc-9987-694fb3fad7be"
      },
      "execution_count": null,
      "outputs": [
        {
          "output_type": "stream",
          "name": "stdout",
          "text": [
            "1000\n"
          ]
        }
      ]
    },
    {
      "cell_type": "code",
      "source": [
        "df_default_downsampled = resample(df_default, replace=False, n_samples=1000, random_state=42)\n",
        "print(len(df_default_downsampled))"
      ],
      "metadata": {
        "colab": {
          "base_uri": "https://localhost:8080/"
        },
        "id": "ilJWxeQRY0h7",
        "outputId": "9c19fa8d-0ad9-46a6-8c4c-be7c33a8462f"
      },
      "execution_count": null,
      "outputs": [
        {
          "output_type": "stream",
          "name": "stdout",
          "text": [
            "1000\n"
          ]
        }
      ]
    },
    {
      "cell_type": "code",
      "source": [
        "df_downsampled = pd.concat([df_no_default_downsampled, df_default_downsampled])\n",
        "print(len(df_downsampled))"
      ],
      "metadata": {
        "colab": {
          "base_uri": "https://localhost:8080/"
        },
        "id": "XWb_reKIY0p1",
        "outputId": "016178e3-6b59-4cdc-89b8-cbfc8605646f"
      },
      "execution_count": null,
      "outputs": [
        {
          "output_type": "stream",
          "name": "stdout",
          "text": [
            "2000\n"
          ]
        }
      ]
    },
    {
      "cell_type": "code",
      "source": [
        "X = df_downsampled.drop('DEFAULT', axis=1).copy()\n",
        "y = df_downsampled['DEFAULT'].copy().astype(int)\n",
        "print(X.shape)\n",
        "print(y.head())"
      ],
      "metadata": {
        "colab": {
          "base_uri": "https://localhost:8080/"
        },
        "id": "VGJJsn4QY0ql",
        "outputId": "c197b3cb-62a6-4b08-f2a9-040d226a31cc"
      },
      "execution_count": null,
      "outputs": [
        {
          "output_type": "stream",
          "name": "stdout",
          "text": [
            "(2000, 23)\n",
            "641      0\n",
            "4678     0\n",
            "16004    0\n",
            "22974    0\n",
            "17535    0\n",
            "Name: DEFAULT, dtype: int64\n"
          ]
        }
      ]
    },
    {
      "cell_type": "code",
      "source": [
        "column_transformer = ColumnTransformer([\n",
        "                                        ('onehot', OneHotEncoder(), ['SEX', 'EDUCATION', 'MARRIAGE', 'PAY_0', 'PAY_2', 'PAY_3', 'PAY_4', 'PAY_5', 'PAY_6']),\n",
        "                                        # ('standard', StandardScaler(), ['BILL_AMT1', 'BILL_AMT2', 'BILL_AMT3', 'BILL_AMT4', 'BILL_AMT5', 'BILL_AMT6', 'PAY_AMT1', 'PAY_AMT2', 'PAY_AMT3', 'PAY_AMT4', 'PAY_AMT5', 'PAY_AMT6']),\n",
        "                                       ]\n",
        "                                       ,remainder='passthrough')\n",
        "X_transformed = column_transformer.fit_transform(X)\n",
        "column_names = column_transformer.get_feature_names_out()\n",
        "X_transformed = pd.DataFrame(X_transformed.toarray(), columns=column_names)\n",
        "print(X_transformed.head())"
      ],
      "metadata": {
        "colab": {
          "base_uri": "https://localhost:8080/"
        },
        "id": "KiMNiP0cY0rd",
        "outputId": "b23d28c7-d58f-474f-d3de-fcfc29005f79"
      },
      "execution_count": null,
      "outputs": [
        {
          "output_type": "stream",
          "name": "stdout",
          "text": [
            "   onehot__SEX_1  onehot__SEX_2  onehot__EDUCATION_1  onehot__EDUCATION_2  \\\n",
            "0            0.0            1.0                  0.0                  0.0   \n",
            "1            1.0            0.0                  0.0                  0.0   \n",
            "2            0.0            1.0                  0.0                  1.0   \n",
            "3            0.0            1.0                  0.0                  1.0   \n",
            "4            0.0            1.0                  0.0                  0.0   \n",
            "\n",
            "   onehot__EDUCATION_3  onehot__EDUCATION_4  onehot__EDUCATION_5  \\\n",
            "0                  1.0                  0.0                  0.0   \n",
            "1                  1.0                  0.0                  0.0   \n",
            "2                  0.0                  0.0                  0.0   \n",
            "3                  0.0                  0.0                  0.0   \n",
            "4                  1.0                  0.0                  0.0   \n",
            "\n",
            "   onehot__EDUCATION_6  onehot__MARRIAGE_1  onehot__MARRIAGE_2  ...  \\\n",
            "0                  0.0                 1.0                 0.0  ...   \n",
            "1                  0.0                 1.0                 0.0  ...   \n",
            "2                  0.0                 1.0                 0.0  ...   \n",
            "3                  0.0                 0.0                 1.0  ...   \n",
            "4                  0.0                 1.0                 0.0  ...   \n",
            "\n",
            "   remainder__BILL_AMT3  remainder__BILL_AMT4  remainder__BILL_AMT5  \\\n",
            "0               50000.0                   0.0                   0.0   \n",
            "1              172307.0               35234.0               32869.0   \n",
            "2               26310.0               26662.0               26166.0   \n",
            "3                 410.0                   0.0                   0.0   \n",
            "4               80548.0               81778.0               83082.0   \n",
            "\n",
            "   remainder__BILL_AMT6  remainder__PAY_AMT1  remainder__PAY_AMT2  \\\n",
            "0                   0.0               2500.0               1000.0   \n",
            "1               33862.0               7200.0               7500.0   \n",
            "2               26176.0               1800.0               1800.0   \n",
            "3                   0.0                979.0                412.0   \n",
            "4               84811.0               3300.0               3331.0   \n",
            "\n",
            "   remainder__PAY_AMT3  remainder__PAY_AMT4  remainder__PAY_AMT5  \\\n",
            "0                  0.0                  0.0                  0.0   \n",
            "1               1200.0               1200.0               1500.0   \n",
            "2               1500.0               1056.0                950.0   \n",
            "3                  0.0                  0.0                  0.0   \n",
            "4               3359.0               2663.0               2751.0   \n",
            "\n",
            "   remainder__PAY_AMT6  \n",
            "0                  0.0  \n",
            "1               1300.0  \n",
            "2               1000.0  \n",
            "3                  0.0  \n",
            "4               3000.0  \n",
            "\n",
            "[5 rows x 81 columns]\n"
          ]
        }
      ]
    },
    {
      "cell_type": "code",
      "source": [
        "X_train, X_test, y_train, y_test = train_test_split(X_transformed, y, test_size=0.3, random_state=42)\n",
        "X_train_scaled = scale(X_train)\n",
        "X_test_scaled = scale(X_test)"
      ],
      "metadata": {
        "id": "kwxK0Dg3Y0sg"
      },
      "execution_count": null,
      "outputs": []
    },
    {
      "cell_type": "code",
      "source": [
        "clf_svm = SVC()\n",
        "clf_svm.fit(X_train_scaled, y_train)\n",
        "print(clf_svm)"
      ],
      "metadata": {
        "colab": {
          "base_uri": "https://localhost:8080/"
        },
        "id": "6weXcyIqY0ta",
        "outputId": "b964ae5b-5f31-4759-e907-5768d18869cb"
      },
      "execution_count": null,
      "outputs": [
        {
          "output_type": "stream",
          "name": "stdout",
          "text": [
            "SVC()\n"
          ]
        }
      ]
    },
    {
      "cell_type": "code",
      "source": [
        "predictions = clf_svm.predict(X_test_scaled)\n",
        "\n",
        "cm = confusion_matrix(y_test, predictions)"
      ],
      "metadata": {
        "id": "miGo99NCn_4R"
      },
      "execution_count": null,
      "outputs": []
    },
    {
      "cell_type": "code",
      "source": [
        "disp = ConfusionMatrixDisplay(confusion_matrix=cm, display_labels=['No Default', 'Default'])\n",
        "\n",
        "TN_RATIO = cm[0,0] / (cm[0,0] + cm[0,1])\n",
        "TP_RATIO = cm[1,1] / (cm[1,0] + cm[1,1])\n",
        "\n",
        "print(f'TN_RATIO: {TN_RATIO*100}%')\n",
        "print(f'TP_RATIO: {TP_RATIO*100}%')\n",
        "\n",
        "disp.plot(cmap=plt.cm.Blues)\n",
        "plt.show()"
      ],
      "metadata": {
        "colab": {
          "base_uri": "https://localhost:8080/",
          "height": 485
        },
        "id": "xIlZyzmWY0uN",
        "outputId": "eaadaae2-274b-4c23-a6a2-45f54fcab459"
      },
      "execution_count": null,
      "outputs": [
        {
          "output_type": "stream",
          "name": "stdout",
          "text": [
            "TN_RATIO: 78.80794701986756%\n",
            "TP_RATIO: 58.38926174496645%\n"
          ]
        },
        {
          "output_type": "display_data",
          "data": {
            "text/plain": [
              "<Figure size 640x480 with 2 Axes>"
            ],
            "image/png": "[encoded data removed]"
          },
          "metadata": {}
        }
      ]
    },
    {
      "cell_type": "code",
      "source": [
        "param_grid = [\n",
        "    {'kernel': ['rbf'],\n",
        "     'C': [0.5, 1, 10, 100],\n",
        "     'gamma': ['scale', 1, 0.1, 0.01, 0.001]},\n",
        "]\n",
        "\n",
        "best_params = GridSearchCV(SVC(),\n",
        "                           param_grid,\n",
        "                           cv=5,\n",
        "                           scoring='accuracy',\n",
        "                           verbose=0)\n",
        "best_params.fit(X_train_scaled, y_train)\n",
        "print(best_params.best_params_)"
      ],
      "metadata": {
        "colab": {
          "base_uri": "https://localhost:8080/"
        },
        "id": "35E0O2jnY0vF",
        "outputId": "2b8a2e63-13b2-4704-cd00-904f2d2ba9d1"
      },
      "execution_count": null,
      "outputs": [
        {
          "output_type": "stream",
          "name": "stdout",
          "text": [
            "{'C': 1, 'gamma': 0.01, 'kernel': 'rbf'}\n"
          ]
        }
      ]
    },
    {
      "cell_type": "code",
      "source": [
        "print(best_params.best_estimator_)"
      ],
      "metadata": {
        "colab": {
          "base_uri": "https://localhost:8080/"
        },
        "id": "W0dDXw4_Y0v6",
        "outputId": "391637fd-d8ec-4b82-d042-908c36bbb3a7"
      },
      "execution_count": null,
      "outputs": [
        {
          "output_type": "stream",
          "name": "stdout",
          "text": [
            "SVC(C=1, gamma=0.01)\n"
          ]
        }
      ]
    },
    {
      "cell_type": "code",
      "source": [
        "best_clf = best_params.best_estimator_\n",
        "best_clf.fit(X_train_scaled, y_train)\n",
        "\n",
        "predictions = best_clf.predict(X_test_scaled)\n",
        "\n",
        "cm = confusion_matrix(y_test, predictions)\n",
        "\n",
        "disp = ConfusionMatrixDisplay(confusion_matrix=cm, display_labels=['No Default', 'Default'])\n",
        "\n",
        "TN_RATIO = cm[0,0] / (cm[0,0] + cm[0,1])\n",
        "TP_RATIO = cm[1,1] / (cm[1,0] + cm[1,1])\n",
        "\n",
        "print(f'TN_RATIO: {TN_RATIO*100}%')\n",
        "print(f'TP_RATIO: {TP_RATIO*100}%')\n",
        "\n",
        "disp.plot(cmap=plt.cm.Blues)\n",
        "plt.show()"
      ],
      "metadata": {
        "colab": {
          "base_uri": "https://localhost:8080/",
          "height": 485
        },
        "id": "7SK0N6t9Y0wt",
        "outputId": "b096cf7a-8b63-473b-ba04-c5b3fcf0b749"
      },
      "execution_count": null,
      "outputs": [
        {
          "output_type": "stream",
          "name": "stdout",
          "text": [
            "TN_RATIO: 78.80794701986756%\n",
            "TP_RATIO: 57.38255033557047%\n"
          ]
        },
        {
          "output_type": "display_data",
          "data": {
            "text/plain": [
              "<Figure size 640x480 with 2 Axes>"
            ],
            "image/png": "[encoded data removed]"
          },
          "metadata": {}
        }
      ]
    },
    {
      "cell_type": "code",
      "source": [
        "pca = PCA()\n",
        "X_train_pca = pca.fit_transform(X_train_scaled)\n",
        "\n",
        "per_var = np.round(pca.explained_variance_ratio_*100, decimals=1)\n",
        "labels = [str(x) for x in range(1, len(per_var)+1)]\n",
        "\n",
        "plt.bar(x=range(1, len(per_var)+1), height=per_var, tick_label=labels)\n",
        "plt.tick_params(\n",
        "    axis='x',\n",
        "    which='both',\n",
        "    bottom=False,\n",
        "    top=False,\n",
        "    labelbottom=False\n",
        ")\n",
        "plt.ylabel('Percentage of Explained Variance')\n",
        "plt.xlabel('Principal Component')\n",
        "plt.title('Scree Plot')\n",
        "plt.show()"
      ],
      "metadata": {
        "colab": {
          "base_uri": "https://localhost:8080/",
          "height": 448
        },
        "id": "EVRQMAJ0y3rt",
        "outputId": "fbe9358b-1796-4208-9f7d-fb6ace5ec64c"
      },
      "execution_count": null,
      "outputs": [
        {
          "output_type": "display_data",
          "data": {
            "text/plain": [
              "<Figure size 640x480 with 1 Axes>"
            ],
            "image/png": "[encoded data removed]"
          },
          "metadata": {}
        }
      ]
    },
    {
      "cell_type": "code",
      "source": [
        "train_pc1_cords = X_train_pca[:,0]\n",
        "train_pc2_cords = X_train_pca[:,1]\n",
        "\n",
        "## NOTE:\n",
        "## pc1 contains the x-axis coordinates of the data after pca\n",
        "## pc2 contains the y-axis coordinates of the data after pca\n",
        "pca_train_scales = scale(np.column_stack((train_pc1_cords, train_pc2_cords)))\n",
        "\n",
        "param_grid = [\n",
        "    {'kernel': ['rbf'],\n",
        "     'C': [0.5, 1, 10, 100],\n",
        "     'gamma': ['scale', 1, 0.1, 0.01, 0.001]},\n",
        "]\n",
        "\n",
        "best_params_pca = GridSearchCV(SVC(),\n",
        "                           param_grid,\n",
        "                           cv=5,\n",
        "                           scoring='accuracy',\n",
        "                           verbose=0)\n",
        "best_params_pca.fit(X_train_scaled, y_train)\n",
        "print(best_params_pca.best_params_)"
      ],
      "metadata": {
        "colab": {
          "base_uri": "https://localhost:8080/"
        },
        "id": "_mS__RR7zuo4",
        "outputId": "5a6feff2-6223-4958-e1eb-76ab34d0c9a2"
      },
      "execution_count": null,
      "outputs": [
        {
          "output_type": "stream",
          "name": "stdout",
          "text": [
            "{'C': 1, 'gamma': 0.01, 'kernel': 'rbf'}\n"
          ]
        }
      ]
    },
    {
      "cell_type": "code",
      "source": [
        "clf_pca = best_params_pca.best_estimator_\n",
        "clf_pca.fit(pca_train_scales, y_train)\n",
        "\n",
        "X_test_pca = pca.transform(X_test_scaled)\n",
        "test_pc1_cords = X_test_pca[:,0]\n",
        "test_pc2_cords = X_test_pca[:,1]\n",
        "\n",
        "x_min = test_pc1_cords.min() - 1\n",
        "x_max = test_pc1_cords.max() + 1\n",
        "\n",
        "y_min = test_pc2_cords.min() - 1\n",
        "y_max = test_pc2_cords.max() + 1\n",
        "\n",
        "xx, yy = np.meshgrid(np.arange(x_min, x_max, 0.1), np.arange(y_min, y_max, 0.1))\n",
        "\n",
        "Z= clf_pca.predict(np.column_stack((xx.ravel(), yy.ravel())))\n",
        "\n",
        "Z = Z.reshape(xx.shape)\n",
        "\n",
        "plt.contourf(xx, yy, Z, alpha=0.4)\n",
        "plt.scatter(test_pc1_cords, test_pc2_cords, c=y_test, alpha=0.7, s=100, edgecolors='k')\n",
        "plt.legend()\n",
        "plt.xlabel('PC1')\n",
        "plt.ylabel('PC2')\n",
        "plt.title('Support Vector Classifier with PCA')\n",
        "plt.show()"
      ],
      "metadata": {
        "id": "tmtOB2Zqztsx"
      },
      "execution_count": null,
      "outputs": []
    }
  ]
}